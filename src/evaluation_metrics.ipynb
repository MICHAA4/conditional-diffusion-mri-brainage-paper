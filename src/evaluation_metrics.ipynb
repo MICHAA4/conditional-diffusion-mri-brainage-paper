{
 "cells": [
  {
   "cell_type": "markdown",
   "id": "3e213b4b-acd8-4c8d-a2c1-0c696619cac3",
   "metadata": {},
   "source": [
    "## Imports"
   ]
  },
  {
   "cell_type": "code",
   "execution_count": null,
   "id": "a1caf032-a59e-4ea2-9ac4-113fbc3714ee",
   "metadata": {},
   "outputs": [],
   "source": [
    "import os\n",
    "import cv2\n",
    "import torch\n",
    "import shutil\n",
    "import random\n",
    "import tempfile\n",
    "import numpy as np\n",
    "from PIL import Image\n",
    "from skimage import io\n",
    "from pathlib import Path\n",
    "from monai.transforms import LoadImage\n",
    "from pytorch_fid import fid_score\n",
    "from torchvision import transforms\n",
    "from pytorch_msssim import ssim"
   ]
  },
  {
   "cell_type": "markdown",
   "id": "3e50a3b2-fe65-4630-b715-b97c05beca00",
   "metadata": {},
   "source": [
    "## Divide Real Images in Half"
   ]
  },
  {
   "cell_type": "code",
   "execution_count": null,
   "id": "7879b1a0-a43d-4a68-8962-7ea5eec204ac",
   "metadata": {},
   "outputs": [],
   "source": [
    "'''\n",
    "from glob import glob\n",
    "\n",
    "def split_images(src_folder, dest_folder1, dest_folder2):\n",
    "    # Create destination folders if they don't exist\n",
    "    os.makedirs(dest_folder1, exist_ok=True)\n",
    "    os.makedirs(dest_folder2, exist_ok=True)\n",
    "    \n",
    "    # Get list of image files in the source folder\n",
    "    image_files = glob(os.path.join(src_folder, '*.png'))\n",
    "    \n",
    "    # Split the image files list in half\n",
    "    midpoint = len(image_files) // 2\n",
    "    first_half = image_files[:midpoint]\n",
    "    second_half = image_files[midpoint:]\n",
    "    \n",
    "    # Copy first half to the first destination folder\n",
    "    for image_file in first_half:\n",
    "        shutil.copy(image_file, dest_folder1)\n",
    "    for image_file in second_half:\n",
    "        shutil.copy(image_file, dest_folder2)\n",
    "        \n",
    "    print(f'{len(first_half)} images copied to {dest_folder1}')\n",
    "    print(f'{len(second_half)} images copied to {dest_folder2}')\n",
    "\n",
    "# Example usage:\n",
    "src_folder = './real_images/275'\n",
    "dest_folder1 = './real_images/275_1'\n",
    "dest_folder2 = './real_images/275_2'\n",
    "\n",
    "split_images(src_folder, dest_folder1, dest_folder2)\n",
    "'''"
   ]
  },
  {
   "cell_type": "markdown",
   "id": "04d541e2-62ad-4d12-9902-c59370a3e524",
   "metadata": {},
   "source": [
    "## FID Calculation"
   ]
  },
  {
   "cell_type": "code",
   "execution_count": null,
   "id": "a17e082b-de34-476e-9635-68080a4b8948",
   "metadata": {},
   "outputs": [],
   "source": [
    "### Real\n",
    "path_real = \"./real_images/275\"\n",
    "path_real_1 = \"./real_images/275_1\"\n",
    "path_real_2 = \"./real_images/275_2\"\n",
    "fid_value_real_real = fid_score.calculate_fid_given_paths([path_real_1, path_real_2], batch_size=60, device='cuda', dims=768)\n",
    "print(\"FID real vs real:\", fid_value_real_real)\n",
    "\n",
    "### FID 7.0\n",
    "path_generated = \"./generated_images/7.0\"\n",
    "fid_value_real_generated = fid_score.calculate_fid_given_paths([path_real, path_generated], batch_size=60, device='cuda', dims=768)\n",
    "print(\"FID_7.0 real vs generated:\", fid_value_real_generated)\n",
    "\n",
    "### FID 5.0\n",
    "path_generated = \"./generated_images/5.0\"\n",
    "fid_value_real_generated = fid_score.calculate_fid_given_paths([path_real, path_generated], batch_size=60, device='cuda', dims=768)\n",
    "print(\"FID_5.0 real vs generated:\", fid_value_real_generated)\n",
    "\n",
    "### FID 3.0\n",
    "path_generated = \"./generated_images/3.0\"\n",
    "fid_value_real_generated = fid_score.calculate_fid_given_paths([path_real, path_generated], batch_size=60, device='cuda', dims=768)\n",
    "print(\"FID_3.0 real vs generated:\", fid_value_real_generated)\n",
    "\n",
    "### FID 1.0\n",
    "path_generated = \"./generated_images/1.0\"\n",
    "fid_value_real_generated = fid_score.calculate_fid_given_paths([path_real, path_generated], batch_size=60, device='cuda', dims=768)\n",
    "print(\"FID_1.0 real vs generated:\", fid_value_real_generated)"
   ]
  },
  {
   "cell_type": "markdown",
   "id": "bd4a0a66-0489-4753-af14-d2868cb3d666",
   "metadata": {},
   "source": [
    "## SSIM Calculation"
   ]
  },
  {
   "cell_type": "code",
   "execution_count": null,
   "id": "4cd1260e-9711-4c8c-b09b-1ec6c567cb0e",
   "metadata": {},
   "outputs": [],
   "source": [
    "def load_images_from_folder(folder, device='cuda'):\n",
    "    images = [] \n",
    "    transform = transforms.Compose([\n",
    "        transforms.ToTensor()  # Convert image to tensor [0,1] range\n",
    "    ])\n",
    "    \n",
    "    for filename in sorted(os.listdir(folder)):\n",
    "        if filename.endswith('.png'):\n",
    "            file_path = os.path.join(folder, filename)\n",
    "            img = cv2.imread(file_path, cv2.IMREAD_GRAYSCALE) \n",
    "            img = transform(img).unsqueeze(0).to(device)\n",
    "            images.append(img)\n",
    "    return images\n",
    "\n",
    "def calculate_ssim(images):\n",
    "    ssim_values = []\n",
    "    image_count = len(images)\n",
    "    \n",
    "    # Generate all possible pairs without replacement\n",
    "    indices = list(range(image_count))\n",
    "    random.shuffle(indices)\n",
    "\n",
    "    for i in range(image_count):\n",
    "        for j in range(i + 1, image_count):\n",
    "            img1 = images[indices[i]]\n",
    "            img2 = images[indices[j]]\n",
    "\n",
    "            # Compute SSIM\n",
    "            ssim_value = ssim(img1, img2, data_range=1.0)\n",
    "            ssim_values.append(ssim_value.item())\n",
    "\n",
    "    return ssim_values"
   ]
  },
  {
   "cell_type": "code",
   "execution_count": null,
   "id": "f22c04b9-d1a3-4303-ad38-f3e6f3d098c0",
   "metadata": {},
   "outputs": [],
   "source": [
    "device = 'cuda' if torch.cuda.is_available() else 'cpu'"
   ]
  },
  {
   "cell_type": "code",
   "execution_count": null,
   "id": "37730273-e3a2-4de3-acea-ca2b67f4f80e",
   "metadata": {},
   "outputs": [],
   "source": [
    "### Real\n",
    "path_real = \"./real_images/275\"\n",
    "real_images = load_images_from_folder(path_real, device)\n",
    "ssim_values_real_real = calculate_ssim(real_images)\n",
    "print(\"Average SSIM real vs real:\", np.mean(ssim_values_real_real))\n",
    "\n",
    "### SSIM 7.0\n",
    "path_generated = \"./generated_images/7.0\"\n",
    "generated_images = load_images_from_folder(path_generated)\n",
    "ssim_values_gen_gen = calculate_ssim(generated_images)\n",
    "print(\"Average SSIM 7.0 generated vs generated:\", np.mean(ssim_values_gen_gen))\n",
    "\n",
    "### SSIM 5.0\n",
    "path_generated = \"./generated_images/5.0\"\n",
    "generated_images = load_images_from_folder(path_generated)\n",
    "ssim_values_gen_gen = calculate_ssim(generated_images)\n",
    "print(\"Average SSIM 5.0 generated vs generated:\", np.mean(ssim_values_gen_gen))\n",
    "\n",
    "### SSIM 3.0\n",
    "path_generated = \"./generated_images/3.0\"\n",
    "generated_images = load_images_from_folder(path_generated)\n",
    "ssim_values_gen_gen = calculate_ssim(generated_images)\n",
    "print(\"Average SSIM 3.0 generated vs generated:\", np.mean(ssim_values_gen_gen))\n",
    "\n",
    "### SSIM 1.0\n",
    "path_generated = \"./generated_images/1.0\"\n",
    "generated_images = load_images_from_folder(path_generated)\n",
    "ssim_values_gen_gen = calculate_ssim(generated_images)\n",
    "print(\"Average SSIM 1.0 generated vs generated:\", np.mean(ssim_values_gen_gen))"
   ]
  }
 ],
 "metadata": {
  "kernelspec": {
   "display_name": "Python 3 (ipykernel)",
   "language": "python",
   "name": "python3"
  },
  "language_info": {
   "codemirror_mode": {
    "name": "ipython",
    "version": 3
   },
   "file_extension": ".py",
   "mimetype": "text/x-python",
   "name": "python",
   "nbconvert_exporter": "python",
   "pygments_lexer": "ipython3",
   "version": "3.11.7"
  }
 },
 "nbformat": 4,
 "nbformat_minor": 5
}
