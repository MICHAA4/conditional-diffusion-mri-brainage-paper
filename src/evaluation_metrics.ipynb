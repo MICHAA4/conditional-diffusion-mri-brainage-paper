{
 "cells": [
  {
   "cell_type": "markdown",
   "id": "3e213b4b-acd8-4c8d-a2c1-0c696619cac3",
   "metadata": {},
   "source": [
    "## Imports"
   ]
  },
  {
   "cell_type": "code",
   "execution_count": null,
   "id": "a1caf032-a59e-4ea2-9ac4-113fbc3714ee",
   "metadata": {},
   "outputs": [],
   "source": [
    "import os\n",
    "import cv2\n",
    "import torch\n",
    "import shutil\n",
    "import random\n",
    "import numpy as np\n",
    "\n",
    "from glob import glob\n",
    "from monai.transforms import LoadImage\n",
    "from torchvision import transforms\n",
    "from pytorch_fid import fid_score\n",
    "from pytorch_msssim import ssim"
   ]
  },
  {
   "cell_type": "markdown",
   "id": "3e50a3b2-fe65-4630-b715-b97c05beca00",
   "metadata": {},
   "source": [
    "## Divide Real Images in Half"
   ]
  },
  {
   "cell_type": "code",
   "execution_count": null,
   "id": "7879b1a0-a43d-4a68-8962-7ea5eec204ac",
   "metadata": {},
   "outputs": [],
   "source": [
    "def split_images(src_folder, dest_folder1, dest_folder2):\n",
    "    # Create destination folders if they don't exist\n",
    "    os.makedirs(dest_folder1, exist_ok=True)\n",
    "    os.makedirs(dest_folder2, exist_ok=True)\n",
    "    \n",
    "    # Get list of image files in the source folder\n",
    "    image_files = glob(os.path.join(src_folder, '*.png'))\n",
    "    \n",
    "    # Split the image files list in half\n",
    "    midpoint = len(image_files) // 2\n",
    "    first_half = image_files[:midpoint]\n",
    "    second_half = image_files[midpoint:]\n",
    "    \n",
    "    # Copy first half to the first destination folder\n",
    "    for image_file in first_half:\n",
    "        shutil.copy(image_file, dest_folder1)\n",
    "    for image_file in second_half:\n",
    "        shutil.copy(image_file, dest_folder2)\n",
    "        \n",
    "    print(f'{len(first_half)} images copied to {dest_folder1}')\n",
    "    print(f'{len(second_half)} images copied to {dest_folder2}')\n",
    "\n",
    "# Example usage:\n",
    "src_folder = './real_images/275'\n",
    "dest_folder1 = './real_images/275_1'\n",
    "dest_folder2 = './real_images/275_2'\n",
    "\n",
    "split_images(src_folder, dest_folder1, dest_folder2)"
   ]
  },
  {
   "cell_type": "markdown",
   "id": "04d541e2-62ad-4d12-9902-c59370a3e524",
   "metadata": {},
   "source": [
    "## FID Calculation"
   ]
  },
  {
   "cell_type": "code",
   "execution_count": null,
   "id": "fa4de4ba",
   "metadata": {},
   "outputs": [],
   "source": [
    "def calculate_fid(path1, path2, batch_size=60, device='cuda', dims=768, label=None):\n",
    "    fid = fid_score.calculate_fid_given_paths([path1, path2], batch_size=batch_size, device=device, dims=dims)\n",
    "    if label:\n",
    "        print(f\"FID {label}: {fid}\")\n",
    "    else:\n",
    "        print(f\"FID between {os.path.basename(path1)} and {os.path.basename(path2)}: {fid}\")\n",
    "    return fid\n",
    "\n",
    "# Real vs Real\n",
    "real_base = \"./real_images/275\"\n",
    "real_1 = \"./real_images/275_1\"\n",
    "real_2 = \"./real_images/275_2\"\n",
    "calculate_fid(real_1, real_2, label=\"real vs real\")\n",
    "\n",
    "# Real vs Generated (guidance scale 별)\n",
    "guidance_scales = [7.0, 5.0, 3.0, 1.0]\n",
    "for scale in guidance_scales:\n",
    "    generated_path = f\"./generated_images/{scale}\"\n",
    "    calculate_fid(real_base, generated_path, label=f\"{scale} real vs generated\")"
   ]
  },
  {
   "cell_type": "markdown",
   "id": "bd4a0a66-0489-4753-af14-d2868cb3d666",
   "metadata": {},
   "source": [
    "## SSIM Calculation"
   ]
  },
  {
   "cell_type": "code",
   "execution_count": null,
   "id": "4cd1260e-9711-4c8c-b09b-1ec6c567cb0e",
   "metadata": {},
   "outputs": [],
   "source": [
    "def load_images_from_folder(folder, device='cuda'):\n",
    "    images = [] \n",
    "    transform = transforms.Compose([\n",
    "        transforms.ToTensor()  # Convert image to tensor [0,1] range\n",
    "    ])\n",
    "    \n",
    "    for filename in sorted(os.listdir(folder)):\n",
    "        if filename.endswith('.png'):\n",
    "            file_path = os.path.join(folder, filename)\n",
    "            img = cv2.imread(file_path, cv2.IMREAD_GRAYSCALE) \n",
    "            img = transform(img).unsqueeze(0).to(device)\n",
    "            images.append(img)\n",
    "    return images\n",
    "\n",
    "def calculate_ssim(images):\n",
    "    ssim_values = []\n",
    "    image_count = len(images)\n",
    "    \n",
    "    # Generate all possible pairs without replacement\n",
    "    indices = list(range(image_count))\n",
    "    random.shuffle(indices)\n",
    "\n",
    "    for i in range(image_count):\n",
    "        for j in range(i + 1, image_count):\n",
    "            img1 = images[indices[i]]\n",
    "            img2 = images[indices[j]]\n",
    "\n",
    "            # Compute SSIM\n",
    "            ssim_value = ssim(img1, img2, data_range=1.0)\n",
    "            ssim_values.append(ssim_value.item())\n",
    "\n",
    "    return ssim_values"
   ]
  },
  {
   "cell_type": "code",
   "execution_count": null,
   "id": "f22c04b9-d1a3-4303-ad38-f3e6f3d098c0",
   "metadata": {},
   "outputs": [],
   "source": [
    "device = 'cuda' if torch.cuda.is_available() else 'cpu'\n",
    "\n",
    "def calculate_and_print_ssim(path, label=None, device=None):\n",
    "    images = load_images_from_folder(path, device=device)\n",
    "    ssim_values = calculate_ssim(images)\n",
    "    mean_ssim = np.mean(ssim_values)\n",
    "    if label:\n",
    "        print(f\"Average SSIM {label}: {mean_ssim}\")\n",
    "    else:\n",
    "        print(f\"Average SSIM for {path}: {mean_ssim}\")\n",
    "    return mean_ssim\n",
    "\n",
    "# Real vs Real\n",
    "real_path = \"./real_images/275\"\n",
    "calculate_and_print_ssim(real_path, label=\"real vs real\", device=device)\n",
    "\n",
    "# Generated vs Generated (guidance scale 별)\n",
    "guidance_scales = [7.0, 5.0, 3.0, 1.0]\n",
    "for scale in guidance_scales:\n",
    "    gen_path = f\"./generated_images/{scale}\"\n",
    "    calculate_and_print_ssim(gen_path, label=f\"{scale} generated vs generated\")\n"
   ]
  }
 ],
 "metadata": {
  "kernelspec": {
   "display_name": "Python 3 (ipykernel)",
   "language": "python",
   "name": "python3"
  },
  "language_info": {
   "codemirror_mode": {
    "name": "ipython",
    "version": 3
   },
   "file_extension": ".py",
   "mimetype": "text/x-python",
   "name": "python",
   "nbconvert_exporter": "python",
   "pygments_lexer": "ipython3",
   "version": "3.11.7"
  }
 },
 "nbformat": 4,
 "nbformat_minor": 5
}
